{
 "cells": [
  {
   "cell_type": "code",
   "execution_count": 30,
   "metadata": {},
   "outputs": [
    {
     "data": {
      "text/plain": [
       "True"
      ]
     },
     "execution_count": 30,
     "metadata": {},
     "output_type": "execute_result"
    }
   ],
   "source": [
    "from langchain.vectorstores.cassandra import Cassandra\n",
    "from langchain.indexes.vectorstore import VectorStoreIndexWrapper\n",
    "from langchain.llms import OpenAI\n",
    "from langchain.embeddings import OpenAIEmbeddings\n",
    "\n",
    "from datasets import load_dataset\n",
    "import cassio\n",
    "import dotenv\n",
    "from dotenv import load_dotenv\n",
    "load_dotenv()"
   ]
  },
  {
   "cell_type": "code",
   "execution_count": 31,
   "metadata": {},
   "outputs": [],
   "source": [
    "from PyPDF2 import PdfReader"
   ]
  },
  {
   "cell_type": "code",
   "execution_count": 32,
   "metadata": {},
   "outputs": [],
   "source": [
    "import os"
   ]
  },
  {
   "cell_type": "code",
   "execution_count": 33,
   "metadata": {},
   "outputs": [],
   "source": [
    "ASTRA_DB_APPLICATION_TOKEN = os.getenv('ASTRA_DB_APPLICATION_TOKEN') # enter the \"AstraCS:...\" string found in in your Token JSON file\n",
    "ASTRA_DB_ID = \"3b39c7e9-1f87-4ddf-882d-0ab790dff010\" # enter your Database ID"
   ]
  },
  {
   "cell_type": "code",
   "execution_count": 34,
   "metadata": {},
   "outputs": [],
   "source": [
    "pdfreader = PdfReader('/Users/bhaskaradhikari/pdf reader chatbot/document/0407033122P108230588.pdf')"
   ]
  },
  {
   "cell_type": "code",
   "execution_count": 43,
   "metadata": {},
   "outputs": [
    {
     "data": {
      "text/plain": [
       "11"
      ]
     },
     "execution_count": 43,
     "metadata": {},
     "output_type": "execute_result"
    }
   ],
   "source": [
    "totalPages = len(pdfreader.pages)\n",
    "totalPages "
   ]
  },
  {
   "cell_type": "code",
   "execution_count": 35,
   "metadata": {},
   "outputs": [],
   "source": [
    "from typing_extensions import Concatenate\n",
    "# read text from pdf\n",
    "raw_text = ''\n",
    "for i, page in enumerate(pdfreader.pages):\n",
    "    content = page.extract_text()\n",
    "    if content:\n",
    "        raw_text += content"
   ]
  },
  {
   "cell_type": "code",
   "execution_count": 36,
   "metadata": {},
   "outputs": [
    {
     "data": {
      "text/plain": [
       "'UNITED INDIA INSURANCE COMPANY LIMITED\\nK 31 CONNAUGHT PLACE, CONNAUGHT PLACE NEW DELHI, NEW DELHI, DELHI\\nNEW DELHI - 110001 DELHI\\nPH:  (011)  23414357   FAX:     EMAIL:  \\nMOTORCYCLE / SCOOTER \\nPACKAGE POLICY\\nUIN: IRDAN545RP0222V01200708\\nPOLICY NO.: 0407033122P108230588\\nVEHICLE NO. :UK - 04 - N - 5382\\n \\n \\nPERIOD OF INSURANCE \\nFrom 00:00 Hrs of 20/11/2022 \\nTo Midnight of 19/11/2023\\n \\n \\n \\nInsured\\n  PRADEEP SINGH RAWAT\\nBANGALORE, KARNATAKA\\n560063\\nBANGALORE\\nKARNATAKA\\nCONTACT NUMBER: 9410580416 (M)\\nIMPORTANT NOTICE : KINDLY UPDATE YOUR AADHAAR NO. AND PAN/FORM 60. PLEASE IGNORE IF ALREADY UPDATED.\\n \\n \\n Agent Name :PHONEPE INSURANCE BROKING\\nSERVICES PVT LTD\\n Agent Code :BRC0001062\\n Mobile/Landline Number/Email :8068727888 / (80) 68727888\\ninsurance-support@phonepe.com\\n \\n \\nThe genuineness of the policy can be verified through \"Verify Your Policy\" link at www.uiic.co.in.  \\n \\nFor any Information, Service Requests, Claim intimation and Grievances please write to 040703@uiic.co.in\\n \\nDownload Customer App( www.uiic.co.in ). REGD. & HEAD OFFICE, 24, WHITES ROAD, CHENNAI - 600014.\\nWebsite: http://www.uiic.co.in\\nPrinted By : PHONEPE @ 18/11/2022 8:59:37 AM\\n1 / 11 \\nMOTORCYCLE / SCOOTER PACKAGE POLICY\\nUIN: IRDAN545RP0222V01200708\\nSCHEDULE\\nPolicy No. 0407033122P108230588 Previous Policy No. N/A  \\nInsured DetailsCustomer Id 23184138955\\nName   PRADEEP SINGH RAWAT   \\nTel (O):  Tel (R)  Fax:  \\nEmail: pawan.rawat1982@gmail.com Mobile: 9410580416  \\nBusiness / Occupation Others  \\nPeriod of Insurance From 00:00 Hrs of 20/11/2022 To Midnight of 19/11/2023\\nCo-Insurance Type   \\nParticulars of Vehicle Insured\\nRegistration No.Obsolete\\nVehicleEngine No. Chassis No. Make/ ModelYear of\\nMfgType of\\nBodyCubic\\nCapacity/KWSeating\\nincluding\\nSide Car\\nUK - 04 - N - 5382\\n No  DHZCCH10872\\n MD2A11CZ0CCH15572\\n Bajaj Auto Ltd / Pulsar\\n  150 (Electric start)2012  Two\\nWheeler  150  2  \\nInsured\\'s Declared Value\\nFor Vehicle\\n For Side Car \\n Non Electrical Accessories\\nElectrical/Electronic\\nAccessories\\nCNG Unit\\n LPG Unit\\n Total Value\\n12056.6   0  0  0  0  0  12056.60  \\nRegistration Authority Auto Association Membership No. Geographical Area Extension\\nUK04 NANITAL   INDIA              \\nPersons or classes of persons entitled to drive  \\nAny person including Insured provided that a person holds an effective driving licence at the time of accident and is not disqualified from\\nholding or obtaining such a licence. Provided also that the person holding an effective Learner\\'s Licence may also drive the vehicle and\\nsuch a person satisfies the requirements of Rule 3 of Central Motor Vehicle Rule, 1989.\\nLimitations as to use  \\nThe policy covers use of the Vehicle for any purpose other than \\na) Hire or Reward\\nb) Carriage of Goods (other than samples or personal luggage)\\nc) Organized Racing \\nd) Pace Making \\ne) Speed Testing and Reliability Trails \\nf) Use in connection with Motor TradePremium:\\n   778.00\\nIGST(18%):\\n   140.00\\nStamp Duty:\\n   1.00\\nTotal(Rounded Off):\\n   918.00\\nReceipt Number : \\n10104070322109523386\\nReceipt Date:   18/11/2022\\nDebit Note Number:  \\nDocument Date:  \\nAmount in words: Nine hundred eighteen rupees only\\nLimits of Liability  \\nUnder Section II-I (i) Death or bodily injury in respect of any one\\naccident; As per Motor Vehicles Act 1988\\nUnder Section II-I (ii) Damage to third party property in respect of\\nany one claim or series of claims arising out of one event: \\n100000Agency/Broker Code:\\nPHONEPE INSURANCE\\nBROKING SERVICES PVT LTD \\nDirect Business:\\nDev Officer:BRC0001062\\n \\nThis policy is subject to terms and conditions and IMT Endorsement Nos. printed herein / attached hereto 22\\nImposed Excess   0 \\nVoluntary Excess   0\\nCompulsory Excess 100\\n2 / 11SCHEDULE OF PREMIUM (IN \\n )\\nOWN DAMAGE\\nBasic premium on Vehicle and Accessories\\nA. Basic OD\\n 63.66\\nTotal\\n 63.66\\nGross OD(A)\\n 64.00LIABILITY  \\nB. Basic TP\\n 714.00\\nTotal\\n 714.00\\nGross TP(B)\\n 714.00\\nGross OD & TP: \\n(A) + (B)\\n778.00\\nWARRANTED THAT IN CASE OF DISHONOUR OF PREMIUM CHEQUE, THIS DOCUMENT STANDS AUTOMATICALLY CANCELLED \"AB-\\nINITIO\".\\nIMPORTANT NOTICE\\nTHE INSURED IS NOT INDEMNIFIED IF THE VEHICLE IS USED OR DRIVEN OTHERWISE THAN IN ACCORDANCE WITH THIS SCHEDULE. ANY\\nPAYMENT MADE BY THE COMPANY BY REASON OF WIDER TERMS APPEARING IN THE CERTIFICATE IN ORDER TO COMPLY WITH THE MOTOR\\nVEHICLES ACT, 1988 IS RECOVERABLE FROM THE INSURED. SEE THE CLAUSE HEADED \"AVOIDANCE OF CERTAIN TERMS AND RIGHT OF\\nRECOVERY\".  FOR LEGAL INTERPRETATION, ENGLISH VERSION WILL HOLD GOOD.\\nCustomer GST/UIN No.:  Office GST No.: 07AAACU5552C1ZL \\nSAC Code: 997134 Invoice No. & Date: 3122I108230588 & 18/11/2022 \\nAmount Subject to Reverse Charges-NIL\\nWe hereby declare that though our aggregate turnover in any preceding financial year from 2017-18 onwards is more than the\\naggregate turnover notified under sub-rule (4) of rule 48, we are not required to prepare an invoice in terms of the provisions of the said\\nsub-rule.\\nNote:-With reference to IRDAI circular no IRDAI/NL/CIR/MOTP/170/10/2018 dated 09/10/2018 and as per the declaration given in\\nthe proposal form by owner driver Compulsory Personal Accident (CPA) cover is removed, since he/she is not holding a valid driving\\nlicense.\\n \\nAnti Money Laundering Clause :-In the event of a claim under the policy exceeding \\n  1 lakh or a claim for refund of premium exceeding \\n1 lakh, the insured will comply with the provisions of AML policy of the company. The AML policy is available in all our operating offices as\\nwell as Company\\'s web site.\\nLET US JOIN THE FIGHT AGAINST CORRUPTION. PLEASE TAKE THE PLEDGE AT https://pledge.cvc.nic.in .\\nDate of Proposal and Declaration:  18/11/2022\\nIN WITNESS WHEREOF, this policy has been signed at BO K 31 040703 on this 18th day of November 2022.\\nFor and On behalf of\\nUnited India Insurance Co. Ltd.\\nAffix Policy\\nStamp here.\\nDuly Constituted Attorney:\\nUnderwritten By - PHONEPE ( ADMIN )\\n3 / 11MOTORCYCLE / SCOOTER PACKAGE POLICY\\nUIN: IRDAN545RP0222V01200708\\nWhereas the Insured by a proposal and declaration dated as stated in the Schedule which shall be the basis of this contract and is\\ndeemed to be incorporated herein has applied to the company for insurance hereinafter contained and has paid the premium mentioned\\nin the schedule as consideration for such insurance in respect of accident loss or damage occurring during the Period of Insurance.\\n(The term two wheeler referred to in this Tariff will include motor cycle/scooter / auto cycle or any other motorised two wheeled vehicle\\nmentioned in the Schedule.)\\nNOW THIS POLICY WITNESSETH:\\nThat subject to the Terms Exceptions and Conditions contained herein or endorsed or otherwise expressed hereon.\\nSECTION - I : LOSS OF OR DAMAGE TO THE VEHICLE INSURED\\nThe Company will indemnify the insured against loss or damage to the vehicle insured hereunder and/or its accessories whilst thereon\\n          a) by fire explosion self ignition or lightning;\\n          b) by burglary housebreaking or theft;\\n          c) by riot and strike;\\n          d) by earthquake (fire and shock damage);\\n          e) by flood typhoon hurricane storm tempest inundation cyclone hailstorm frost;\\n          f) by accidental external means;\\n          g) by malicious act;\\n          h) by terrorist activity;\\n          i) whilst in transit by road rail inland- waterway lift elevator or air;\\n          j) by landslide rockslide.\\n \\nSubject to a deduction for depreciation at the rates mentioned below in respect of parts replaced :\\n1. For all rubber/ nylon/ plastic parts, tyres and tubes, batteries 50%\\n2. For fibre glass components 30%\\n3. For all parts made of glass Nil\\n4. Rate of depreciation for all other parts including wooden parts will be as per the following schedule :\\nAge of Vehicle% of\\nDepreciationAge of Vehicle% of\\nDepreciation\\nNot exceeding 6 months NilExceeding 3 years but not exceeding 4\\nyears25%\\nExceeding 6 months but not exceeding\\n1 year5%Exceeding 4 years but not exceeding 5\\nyears35%\\nExceeding 1 year but not exceeding 2\\nyears10%Exceeding 5 year but not exceeding 10\\nyears40%\\nExceeding 2 years but not exceeding 3\\nyears15% Exceeding 10 years 50%\\n5.Rate of Depreciation for Painting: In the case of painting, the depreciation rate of 50% shall be applied only on the material cost of total\\npainting charges. In case of consolidated bill for painting charges, the material component shall be considered as 25% of total painting\\ncharges for the purpose of applying the depreciation.\\nThe Company shall not be liable to make any payment in respect of :\\n(a)consequential loss, depreciation, wear and tear, mechanical or electrical breakdown failures or breakages.\\n(b)damage to tyres and Tubes unless the vehicle insured is damaged at the same time in which case the liability of the company shall\\nbe limited to 50% of the cost of replacement.\\n(c)loss of or damage to accessories by burglary housebreaking or theft unless the vehicle is stolen at the same time\\n and\\n(d)any accidental loss or damage suffered whilst the insured or any person driving the vehicle with the knowledge and consent of the\\ninsured is under the influence of intoxicating liquor or drugs.\\nIn the event of the vehicle being disabled by reason of loss or damage covered under this Policy the Company will bear the reasonable\\ncost of protection and removal to the nearest repairer and of redelivery to the Insured but not exceeding in all Rs.300/- in respect of any\\none accident.\\nThe insured may authorise the repair of the vehicle necessitated by damage for which the Company may be liable under this Policy\\nprovided that:-\\n(a)the estimated cost of such repair including replacements, if any, does not exceed Rs.150/-\\n(b)the Company is furnished forthwith a detailed estimate of the cost of repairs and\\n the insured shall give the Company every assistance to see that such repair is necessary and the charges are reasonable.\\n4 / 11SUM INSURED - INSURED\\'S DECLARED VALUE (IDV)\\nThe Insured\\'s Declared Value (IDV) of the vehicle will be deemed to be the \\'SUM INSURED\\' for the purpose of this policy which is fixed at\\nthe commencement of each policy period for the insured vehicle.\\n \\nThe IDV of the vehicle (and side car/accessories, if any, fitted to the vehicle) is to be fixed on the basis of the manufacturer\\'s listed selling\\nprice of the brand and model as the insured vehicle at the commencement of insurance/renewal and adjusted for depreciation (as per\\nschedule below).\\n \\nThe schedule of age-wise depreciation as shown below is applicable for the purpose of Total Loss/Constructive Total Loss (TL/CTL) claims\\nonly.\\nTHE SCHEDULE OF DEPRECIATION FOR FIXING IDV OF THE VEHICLE\\n \\nAGE OF VEHICLE % OF DEPRECIATION FOR FIXING IDV\\nNot exceeding 6 months 5%\\nExceeding 6 months but not exceeding 1 year 15%\\nExceeding 1 year but not exceeding 2 years 20%\\nExceeding 2 years but not exceeding 3 years 30%\\nExceeding 3 years but not exceeding 4 years 40%\\nExceeding 4 years but not exceeding 5 years 50%\\nIDV of vehicles beyond 5 years of age and of obsolete models of the vehicles ( i.e. models which the manufacturers have discontinued to\\nmanufacture) is to be determined on the basis of an understanding between the insurer and the insured.\\nIDV shall be treated as the Market Value throughout the policy period without any further depreciation for the purpose of Total Loss (TL)\\n/Constructive Total Loss ( CTL) claims.\\nThe insured vehicle shall be treated as a CTL if the aggregate cost of retrieval and / or repair of the vehicle, subject to terms and\\nconditions of the policy, exceeds 75% of the IDV of the vehicle.\\nSECTION II - LIABILITY TO THIRD PARTIES\\n1.Subject to the limits of liability as laid down in the Schedule hereto the Company will indemnify the insured in the event of an accident\\ncaused by or arising out of the use of the insured vehicle against all sums which the insured shall become legally liable to pay in\\nrespect of :-\\n (i) death of or bodily injury to any person including occupants carried in the insured vehicle ( provided such occupants are not carried\\nfor hire or reward) but except so far as it is necessary to meet the requirements of Motor Vehicles Act, the Company shall not be\\nliable where such death or injury arises out of and in the course of the employment of such person by the insured,\\n (ii)       damage to property other than property belonging to the insured or held in trust or in the custody or control of the insured.\\n Provided always that the Company shall not be liable in respect of death injury or damage caused or arising beyond the limits of any\\ncarriageway or thoroughfare in connection with the bringing of the load to the vehicle for loading thereon or the taking away of the\\nload from the vehicle after unloading there from.\\n2.The Company will pay all costs and expenses incurred with its written consent.\\n3.In terms of and subject to the limitations of the indemnity granted by this section to the insured, the Company will indemnify any\\ndriver who is driving the vehicle on the insured\\'s order or with insured\\'s permission provided that such driver shall as though he/she\\nwas the insured observe fulfill and be subject to the terms exceptions and conditions of this Policy in so far as they apply.\\n4.In the event of the death of any person entitled to indemnity under this policy the Company will in respect of the liability incurred by\\nsuch person indemnify his/her personal representative in terms of and subject to the limitations of this Policy provided that such\\npersonal representative shall as though such representative was the insured observe fulfill and be subject to the terms exceptions and\\nconditions of this Policy in so far as they apply.\\n5.The Company may at its own option (a) arrange for representation at any Inquest or Fatal Inquiry in respect of any death which may\\nbe the subject of indemnity under this Policy and (b)undertake the defence of proceedings in any Court of Law in respect of any act or\\nalleged offence causing or relating to any event which may be the subject of indemnity under this Policy.\\nAVOIDANCE OF CERTAIN TERMS AND RIGHT OF RECOVERY\\nNothing in this Policy or any endorsement hereon shall affect the right of any person indemnified by this policy or any other person to\\nrecover an amount under or by virtue of the Provisions of the Motor Vehicles Act. But the Insured shall repay to the Company all sums\\npaid by the Company which the Company would not have been liable to pay but for the said provision.\\n \\nAPPLICATION OF LIMITS OF INDEMNITY\\nIn the event of any accident involving indemnity to more than one person any limitation by the terms of this Policy and/or of any\\nEndorsement thereon of the amount of any indemnity shall apply to the aggregate amount of indemnity to all persons indemnified and\\nsuch indemnity shall apply in priority to the insured\\n5 / 11SECTION III - PERSONAL ACCIDENT COVER FOR OWNER-DRIVER\\n \\nSubject otherwise to the terms exceptions conditions and limitations of this Policy, the Company undertakes to pay compensation as per\\nthe following scale for bodily injury/ death sustained by the owner-driver of the vehicle indirect connection with the vehicle insured whilst\\nmounting into/dismounting from or traveling in the insured vehicle as a co-driver, caused by violent accidental external and visible means\\nwhich independent of any other cause shall within six calendar months of such injury result in:\\nNature of injury Scale of compensation Nature of injury Scale of compensation\\n(i) Death 100%(iii) Loss of one limb or sight of one\\neye50%\\n(ii) Loss of two limbs or sight of\\ntwo eyes or one limb and sight\\nof one eye100%(iv) Permanent total disablement\\nfrom injuries other than named\\nabove100%\\nProvided always that\\nA)the compensation shall be payable under only one of the items (i) to (iv) above in respect of the owner-driver arising out of any one\\noccurrence and the total liability of the insurer shall not in the aggregate exceed the sum as per schedule during any one period of\\ninsurance.\\nB)no compensation shall be payable in respect of death or bodily injury directly or indirectly wholly or in part arising or resulting from or\\ntraceable to (a) intentional self injury suicide or attempted suicide physical defect or infirmity or (b) an accident happening whilst such\\nperson is under the influence of intoxicating liquor or drugs.\\nC)Such compensation shall be payable directly to the insured or to his/her legal representatives whose receipt shall be the full discharge\\nin respect of the injury to the insured.\\nThis cover is subject to\\n (a) the owner-driver is the registered owner of the vehicle insured herein.\\n (b) the owner-driver is the insured named in this policy.\\n (c) the owner-driver holds an effective driving licence, in accordance with the provisions of Rule 3 of the Central Motor Vehicles Rules,\\n1989, at the time of the accident\\n \\n \\nGENERAL EXCEPTIONS  (Applicable to all sections of the Policy)\\nThe Company shall not be liable in respect of :\\n1.any accidental loss damage and/or liability caused sustained or incurred outside the Geographical Area.\\n2.any claim arising out of any contractual liability.\\n3.any accidental loss damage and/or liability caused sustained or incurred whilst the vehicle insured herein is\\n (a) being used otherwise than in accordance with the \\'Limitations as to Use\\'\\n  or\\n (b) being driven by or is for the purpose of being driven by him/her in the charge of any person other than a Driver as stated in the\\nDriver\\'s clause.\\n4.(i) Any accident loss or damage to any property whatsoever or any loss or expense whatsoever resulting or arising there from or any\\nconsequential loss\\n(ii) any liability of whatsoever nature directly or indirectly caused by or contributed to by or arising from ionising radiations or\\ncontamination by radioactivity from any nuclear fuel or from any nuclear waste from the combustion of nuclear fuel. For the\\npurposes of this exception combustion shall include any self-sustaining process of nuclear fission.\\n5.Any accidental loss or damage or liability directly or indirectly caused by or contributed to by or arising from nuclear weapons material\\n6.Any accidental loss damage and/or liability directly or indirectly or proximately or remotely occasioned by or contributed to by or\\ntraceable to or arising out of or in connection with war, invasion, the act of foreign enemies, hostilities or warlike operations (whether\\nbefore or after declaration of war), civil war, mutiny rebellion, military or usurped power or by any direct or indirect consequences of any\\nof the said occurrences and in the event of any claim hereunder the Insured shall prove that the accidental loss damage and/or liability\\narose independently of and was in no way connected with or occasioned by or contributed to by or traceable to any of the said\\noccurrences or any consequences thereof and in default of such proof the Company shall not be liable to make any payment in respect\\nof such a claim.\\nDEDUCTIBLE\\nThe Company shall not be liable for each and every claim under Section -1 (loss of or damage to the vehicle insured) of this Policy in\\nrespect of the deductible stated in the schedule.\\n6 / 11CONDITIONS\\n \\nThis Policy and the Schedule shall be read together and any word or expression to which a specific meaning has been attached in any part\\nof this Policy or of the Schedule shall bear the same meaning wherever it may appear.\\n1. Notice shall be given in writing to the Company immediately upon the occurrence of any accidental loss or damage and in the event\\nof any claim and thereafter the insured shall give all such information and assistance as the Company shall require. Every letter\\nclaim writ summons and/or process or copy thereof shall be forwarded to the Company immediately on receipt by the insured.\\nNotice shall also be given in writing to the Company immediately the insured shall have knowledge of any impending prosecution\\ninquest or fatal injury in respect of any occurrence which may give rise to a claim under this policy. In case of theft or other criminal\\nact which may be the subject of a claim under this Policy the insured shall give immediate notice to the police and co-operate with\\nthe Company in securing the conviction of the offender.\\n2. No admission offer promise payment or indemnity shall be made or given by or on behalf of the Insured without the written\\nconsent of the Company which shall be entitled if it so desires to take over and conduct in the name of the Insured the defence or\\nsettlement of any claim or to prosecute in the name of the Insured for its own benefit any claim for indemnity or damages or\\notherwise and shall have full discretion in the conduct of any proceedings or in the settlement of any claim and the Insured shall\\ngive all such information and assistance as the Company may require.\\n3. The Company may at its own option repair reinstate or replace the vehicle or part thereof and/or its accessories or may pay in cash\\nthe amount of the loss or damage and the liability of the Company shall not exceed:\\n(a) for total loss / constructive total loss of the vehicle - the Insured\\'s Declared Value (IDV) of the vehicle (including accessories\\nthereon) as specified in the Schedule less the value of the wreck\\n(b) for partial losses, i.e. losses other than Total Loss/Constructive Total Loss of the vehicle - actual and reasonable costs of\\nrepair and/or replacement of parts lost/damaged subject to depreciation as per limits specified.\\n4. The Insured shall take all reasonable steps to safeguard the vehicle from loss or damage and to maintain it in efficient condition\\nand the Company shall have at all times free and full access to examine the vehicle or any part thereof or any driver or employee\\nof the insured. In the event of any accident or breakdown, the vehicle shall not be left unattended without proper precautions being\\ntaken to prevent further damage or loss and if the vehicle be driven before the necessary repairs are effected any extension of the\\ndamage or any further damage to the vehicle shall be entirely at the insured\\'s own risk.\\n5. The Company may at any time cancel the policy on grounds of misrepresentation, fraud. non-disclosure of material fact or non-\\ncooperation by the insured by sending seven days notice by recorded delivery to the insured at insured\\'s last known address and in\\nsuch event will return to the insured the premium paid less the pro rata portion thereof for the period the Policy has been in force\\nor the policy may be cancelled at any time by the insured on seven days\\' notice by recorded delivery and provided no claim has\\narisen during the currency of the policy, the insured shall be entitled to a return of premium less premium at the Company\\'s Short\\nPeriod rates for the period the Policy has been in force. Return of the premium by the company will be subject to retention of the\\nminimum premium of Rs.100/- (or Rs.25/- in respect of vehicles specifically designed/modified for use by\\nblind/handicapped/mentally challenged persons). Where the ownership of the vehicle is transferred, the policy cannot be cancelled\\nunless evidence that the vehicle is insured elsewhere at least for Liability Only cover is produced and original Certificate of\\nInsurance is produced for cancellation.\\n6. If at the time of occurrence of an event that gives rise to any claim under this policy there is in existence any other insurance\\ncovering the same liability, the Company shall not be liable to pay or contribute more than its ratable proportion of any\\ncompensation, cost or expense.\\n7. If any dispute or difference shall arise as to the quantum to be paid under this policy (liability being otherwise admitted), such\\ndifference shall independent of all other questions be referred to the decision of a sole arbitrator to be appointed in writing by the\\nparties to the dispute or if they cannot agree upon a single arbitrator within 30 days of any party invoking Arbitration, the same\\nshall be referred to a panel of three arbitrators comprising two arbitrators one to be appointed by each of the parties to the dispute\\n/ difference, and a third arbitrator to be appointed by such two arbitrators who shall act as the presiding arbitrator and Arbitration\\nshall be conducted under and in accordance with the provisions of the Arbitration and Conciliation Act, 1996. \\nIt is clearly agreed and understood that no difference or dispute shall be referable to Arbitration as hereinbefore provided, if the\\nCompany has disputed or not accepted liability under or in respect of this policy. \\nIt is hereby expressly stipulated and declared that it shall be condition precedent to any right of action or suit upon this policy that\\nthe award by such arbitrator/ arbitrators of the amount of the loss or damage shall be first obtained. \\nIt is also hereby further expressly agreed and declared that if the Company shall disclaim liability to the insured for any claim\\nhereunder and such claim shall not, within twelve calendar months from the date of such disclaimer have been made the subject\\nmatter of a suit in a court of law, then the claim shall for all purposes be deemed to have been abandoned and shall not thereafter\\nbe recoverable hereunder.\\n8. The due observance and fulfillment of the terms, conditions and endorsements of this Policy in so far as they relate to anything to\\nbe done or complied with by the insured and the truth of the statements and answers in the said proposal shall be conditions\\nprecedent to any liability of the Company to make any payment under this Policy.\\n9. In the event of the death of the sole insured, this policy will not immediately lapse but will remain valid for a period of three\\nmonths from the date of the death of insured or until the expiry of this policy (whichever is earlier). During the said period, legal\\nheir(s) of the insured to whom the custody and use of the Motor Vehicle passes may apply to have this Policy transferred to the\\nname(s) of the heir(s) or obtain a new insurance policy for the Motor Vehicle.\\nWhere such legal heir(s) desire(s) to apply for transfer of this policy or obtain a new policy for the vehicle such heir(s) should make\\nan application to the Company accordingly within the aforesaid period. All such applications should be accompanied by:-\\n a)Death Certificate in respect of the insured\\nb)Proof of title to the vehicle\\nc)Original Policy\\n7 / 11No Claim Bonus\\n \\nThe insured is entitled for a No Claim Bonus (NCB) on the Own Damage section of the policy, if no claim is made or pending during the\\npreceding year(s), as per the following table:\\nPeriod of insurance % of NCB on OD premium\\nThe preceding year 20%\\nPreceding Two consecutive years 25%\\nPreceding Three consecutive years 35%\\nPreceding Four consecutive years 45%\\nPreceding Five consecutive years 50%\\nNo Claim Bonus will only be allowed provided the policy is renewed within 90 days of the expiry date of the previous policy.\\nNB1:-In Liability with Fire and / or Theft Only policies NCB as above will be applicable only on the Fire and / or Theft component of the\\npremium.\\n 2:-In Fire and / or Theft Only  policies the insured is not entitled for NCB.\\nIMT ENDORSEMENTS : 22\\nIMT.22. Compulsory Deductible (Applicable to Private Cars, three wheelers rated as private cars, all motorized two wheelers, taxis,\\nprivate car type vehicle plying for public/private hire, private type taxi let out on private hire)\\nNotwithstanding anything to the contrary contained in the policy it is hereby understood and agreed that the insured shall bear under\\nSection 1 of the policy in respect of each and every event (including event giving rise to a total loss/constructive total loss) the first \\n  100\\n(or any less expenditure which may be incurred) of any expenditure for which provision has been made under this policy and/or of any\\nexpenditure by the insurer in the exercise of his discretion under Condition 3 of this policy.\\nIf the expenditure incurred by the insurer shall include any amount for which the insured is responsible hereunder such amount shall be\\nrepaid by the insured to the insurer forthwith.\\nFor the purpose of this Endorsement the expression \"event\" shall mean an event or series of events arising out of one cause in\\nconnection with the vehicle insured in respect of which indemnity is provided under this policy.\\nSubject otherwise to the terms conditions limitations and exceptions of this Policy.\\n8 / 11Claim Procedure \\n• Inform the insures immediately, quoting policy no. to enable them to arrange for a survey. \\n• Inform the police about the accident, if third part injury/property damage is/are also involved. \\n• Note the names and addresses of witnesses present at the time of accident. \\n• Submit an estimate of repairs to your insuring office or the nearest office of the Insuring Company. \\n• Do not undertake the repairs till the insurers approve the estimate of the cost of repairs/replacements. \\n• Give any additional information, if available. That helps the insurers settle the claim faster. \\n• Please keep ready and present the following documents to the surveyor for verification when asked for: \\n   (a) Driving License (b) R.C. Book \\n• In case of Commercial Vehicles, please keep ready \\n   (a) Route Permit (b) Fitness Certificate (c) Badge (Taxi) also. \\n• After the repairs are over, you will have to sign a satisfaction certificate and submit to the repairs.\\n \\nREDRESSAL OF GRIEVANCE  \\nIn case of any grievance the Insured Person may contact the company through: \\nWebsite: www.uiic.co.in  \\nToll free: 1800 425 333 33 \\nE-mail: customercare@uiic.co.in  \\nCourier: Customer Care Department, Head Office, United India Insurance Co. Ltd., 19, IV Lane, Nungambakkam High Road,\\nChennai,Tamil Nadu- 600034 \\nInsured Person may also approach the grievance cell at any of the Company\\'s branches with the details of grievance. \\nIf Insured Person is not satisfied with the redressal of grievance through one of the above methods, Insured Person may contact the\\ngrievance officer at customercare@uiic.co.in  \\nFor updated details of grievance officer, kindly refer the link https://uiic.co.in/en/customercare/grievance  \\nIf Insured Person is not satisfied with the redressal of grievance through above methods, the Insured Person may also approach the office\\nof Insurance Ombudsman of the respective area/region for redressal of grievance as per Insurance Ombudsman Rules 2017. \\nThe contact details of the Insurance Ombudsman offices have been provided as Annexure - 1. \\nGrievance may also be lodged at IRDAI Integrated Grievance Management System: https://igms.irda.gov.in\\n \\n9 / 11Annexure -1\\nThe contact details of the Insurance Ombudsman offices are as below-\\n Areas of Jurisdiction  Office of the Insurance Ombudsman\\nGujarat, Dadra & Nagar Haveli, Daman and Diu Office of the Insurance Ombudsman, Jeevan Prakash Building, 6th floor, Tilak\\nMarg, Relief Road, Ahmedabad - 380 001. Tel No: 079 - 25501201/02/05/06.\\nEmail: bimalokpal.ahmedabad@ecoi.co.in\\nKarnataka Office of the Insurance Ombudsman, Jeevan Soudha Building,PID No. 57-27-N-19\\nGround Floor, 19/19, 24th Main Road, JP Nagar, Ist Phase, Bengaluru - 560 078.\\nTel.: 080 - 26652048 / 26652049 Email: bimalokpal.bengaluru@ecoi.co.in\\nMadhya Pradesh and Chhattisgarh Office of the Insurance Ombudsman, Janak Vihar Complex, 2nd Floor, 6, Malviya\\nNagar, Opp. Airtel Office, Near New Market, Bhopal - 462 003. Tel.: 0755 - 2769201\\n/ 2769202 Fax: 0755 - 2769203 Email: bimalokpal.bhopal@ecoi.co.in\\nOdisha Office of the Insurance Ombudsman, 62, Forest park, Bhubneshwar - 751 009.\\nTel.: 0674 - 2596461 /2596455 Fax: 0674 - 2596429 Email:\\nbimalokpal.bhubaneswar@ecoi.co.in\\nPunjab , Haryana, Himachal Pradesh, Jammu and\\nKashmir, UT of ChandigarhOffice of the Insurance Ombudsman, S.C.O. No. 101, 102 & 103, 2nd Floor, Batra\\nBuilding, Sector 17 - D, Chandigarh - 160 017. Tel.: 0172 - 2706196 / 2706468\\nFax: 0172 - 2708274 Email: bimalokpal.chandigarh@ecoi.co.in\\nTamil Nadu, UT-Pondicherry Town and Karaikal (which\\nare part of UT of Pondicherry)Office of the Insurance Ombudsman, Fatima Akhtar Court, 4th Floor, 453, Anna\\nSalai, Teynampet, CHENNAI - 600 018. Tel.: 044 - 24333668 / 24335284 Fax: 044\\n- 24333664 Email: bimalokpal.chennai@ecoi.co.in\\nDelhi Office of the Insurance Ombudsman, 2/2 A, Universal Insurance Building, Asaf Ali\\nRoad, New Delhi - 110 002. Tel.: 011 - 23232481/2321350 4. Email:\\nbimalokpal.delhi@ecoi.co.in\\nAssam , Meghalaya, Manipur, Mizoram, Arunachal\\nPradesh, Nagaland and TripuraOffice of the Insurance Ombudsman, Jeevan Nivesh, 5th Floor, Nr. Panbazar over\\nbridge, S.S. Road, Guwahati - 781001 (ASSAM). Tel.: 0361 - 2632204 / 2602205.\\nEmail: bimalokpal.guwahati@ecoi.co.in\\nAndhra Pradesh, Telangana and UT of Yanam - a part\\nof the UT of PondicherryOffice of the Insurance Ombudsman, 6-2-46, 1st floor, \"Moin Court\", Lane Opp.\\nSaleem Function Palace, A. C. Guards, Lakdi-Ka-Pool, Hyderabad - 500 004. Tel.:\\n040 - 67504123 / 23312122. Fax: 040 - 23376599 Email:\\nbimalokpal.hyderabad@ecoi.co.in\\nRajasthan Office of the Insurance Ombudsman, Jeevan Nidhi - II Bldg., Gr. Floor, Bhawani\\nSingh Marg, Jaipur - 302 005. Tel.: 0141 - 2740363 Email:\\nBimalokpal.jaipur@ecoi.co.in\\nKerala , UT of (a) Lakshadweep, (b) Mahe - a part of\\nUT of PondicherryOffice of the Insurance Ombudsman, 2nd Floor, Pulinat Bldg., Opp. Cochin\\nShipyard, M. G. Road, Ernakulam - 682 015. Tel.: 0484 - 2358759 / 2359338 Fax:\\n0484 - 2359336 Email: bimalokpal.ernakulam@ecoi.co.in\\nWest Bengal, UT of Andaman and Nicobar Islands,\\nSikkimOffice of the Insurance Ombudsman, Hindustan Bldg. Annexe, 4th Floor, 4, C.R.\\nAvenue, KOLKATA - 700 072. Tel.: 033 - 22124339 / 22124340 Fax : 033 -\\n22124341 Email: bimalokpal.kolkata@ecoi.co.in\\nDistricts of Uttar Pradesh: Laitpur, Jhansi, Mahoba,\\nHamirpur, Banda, Chitrakoot, Allahabad, Mirzapur,\\nSonbhadra, Fatehpur, Pratapgarh, Jaunpur,Varanasi,\\nGazipur, Jalaun, Kanpur, Lucknow, Unnao, Sitapur,\\nLakhimpur, Bahraich, Barabanki, Raebareli, Sravasti,\\nGonda, Faizabad, Amethi, Kaushambi, Balrampur,\\nBasti, Ambedkarnagar, Sultanpur, Maharajgang,\\nSantkabirnagar, Azamgarh, Kushinagar, Gorakhpur,\\nDeoria, Mau, Ghazipur, Chandauli, Ballia,\\nSidharathnagar.Office of the Insurance Ombudsman, 6th Floor, Jeevan Bhawan, Phase-II, Nawal\\nKishore Road, Hazratganj, Lucknow - 226 001. Tel.: 0522 - 2231330 / 2231331.\\nFax: 0522 - 2231310 Email: bimalokpal.lucknow@ecoi.co.in\\nGoa, Mumbai Metropolitan Region excluding Navi\\nMumbai & ThaneOffice of the Insurance Ombudsman, 3rd Floor, Jeevan Seva Annexe, S. V. Road,\\nSantacruz (W), Mumbai - 400 054. Tel.: 022 - 26106552 / 26106960 Fax: 022 -\\n26106052 Email: bimalokpal.mumbai@ecoi.co.in\\nState of Uttarakhand and the following Districts of Uttar\\nPradesh: Agra, Aligarh, Bagpat, Bareilly, Bijnor,\\nBudaun, Bulandshehar, Etah, Kannauj, Mainpuri,\\nMathura, Meerut, Moradabad, Muzaffarnagar, Oraiyya,\\nPilibhit, Etawah, Farrukhabad, Firozbad, Gautam\\nBuddha Nagar, Ghaziabad, Hardoi, Shahjahanpur,\\nHapur, Shamli, Rampur, Kasganj, Sambhal, Amroha,\\nHathras, Kanshiramnagar, SaharanpurOffice of the Insurance Ombudsman, Bhagwan Sahai Palace 4th Floor, Main Road,\\nNaya Bans, Sector 15, Distt: Gautam Buddh Nagar, U.P-201301. Tel.: 0120-\\n2514250 / 2514252 / 2514253 Email: bimalokpal.noida@ecoi.co.in\\nBihar, Jharkhand. Office of the Insurance Ombudsman, 1st Floor, Kalpana Arcade Building, Bazar\\nSamiti Road, Bahadurpur, Patna 800 006. Tel.: 0612-2680952. Email:\\nbimalokpal.patna@ecoi.co.in\\nMaharashtra, Area of Navi Mumbai and Thane\\nexcluding Mumbai Metropolitan RegionOffice of the Insurance Ombudsman, Jeevan Darshan Bldg., 3rd Floor, C.T.S. No.s.\\n195 to 198, N.C. Kelkar Road, Narayan Peth, Pune - 411 030. Tel.: 020-41312555.\\nEmail: bimalokpal.pune@ecoi.co.in\\nThe updated details of Insurance Ombudsman are also available at: \\nºIRDAI website: https://www.irdai.gov.in/  \\nºGeneral Insurance Council website: https://www.gicouncil.in/  \\nºOur Company Website: https://uiic.co.in/  \\nºFrom any of the offices of our Company.\\n10 / 11 \\nUNITED INDIA INSURANCE COMPANY LIMITED\\nCERTIFICATE OF INSURANCE\\nMOTORCYCLE / SCOOTER PACKAGE POLICY\\nUIN: IRDAN545RP0222V01200708\\n(FORM 51 OF CENTRAL MOTOR VEHICLE RULES 1989)\\nPolicy No.   0407033122P108230588\\nCustomer Id   23184138955\\nName of the Insured     PRADEEP SINGH RAWAT\\nAddress of the InsuredBANGALORE, KARNATAKA\\n560063 \\nBANGALORE\\nKARNATAKA\\nBusiness/Occupation   Others Mobile No.- 9410580416Certificate Number 0407033122P108230588\\nIssuing Office Address Code   040703\\n  K 31\\nCONNAUGHT PLACE, CONNAUGHT PLACE NEW DELHI, NEW DELHI,\\nDELHI \\n110001\\nNEW DELHI\\nDELHI\\nTelephone   (011)  23414357\\nInsured\\'s Declared Value  \\n 12056.6 \\nPeriod of Insurance From 00:00 Hrs of 20/11/2022 To Midnight of 19/11/2023\\nParticulars of Vehicle Insured\\nRegistration\\nNo.Obsolete\\nVehicleEngine No. Chassis No. Make/ ModelType of\\nBodyYear of\\nMfgCubic\\nCapacity/KWSeating\\nincluding\\ndriver VehicleTrailer\\n( if\\nany)\\nUK -\\n04 - N\\n- 5382 No   \\nDHZCCH10872 \\nMD2A11CZ0CCH15572Bajaj Auto Ltd / Pulsar  \\n150 (Electric start)  Two\\nWheeler  2012   150   2\\nRegistration Authority Geographical Area  \\nUK04 NANITAL INDIA            \\nAmount in words: Nine hundred eighteen rupees only\\nPersons or classes of persons entitled to drive  \\nAny person including Insured provided that a person holds an effective driving licence at the time of accident and is not disqualified from\\nholding or obtaining such a licence. Provided also that the person holding an effective Learner\\'s Licence may also drive the vehicle and\\nsuch a person satisfies the requirements of Rule 3 of Central Motor Vehicle Rule, 1989.\\nNote:-  The policy does not cover liability for death, bodily injury or damage as excluded insection 150 (2) (ii) and (iii); (b) and (c) of the\\nMotor Vehicles Act, 1988.\\nLimitations as to use  \\nThe policy covers use of the vehicle for any purpose other than \\na) Hire or Reward\\nb) Carriage of Goods (other than samples or personal luggage)\\nc) Organized Racing \\nd) Pace Making \\ne) Speed Testing and Reliability Trails \\nf) Use in connection with Motor TradePremium:\\n   778.00\\nIGST(18%):\\n   140.00\\nStamp Duty:\\n   1.00\\nTotal(Rounded Off):\\n   918.00\\nReceipt Number : \\n10104070322109523386\\nReceipt Date:   18/11/2022\\nDebit Note Number:  \\nDocument Date:  \\nLimits of Liability\\nUnder Section II-I (i) Death or bodily injury in respect of any one\\naccident; As per Motor Vehicles Act 1988Agency/Broker Code:\\nPHONEPE INSURANCE\\nBROKING SERVICES PVT LTD\\nDirect Business:BRC0001062\\n \\nUnder Section II-I (ii) Damage to third party property in respect of\\nany one claim or series of claims arising out of one event: \\n100000 /-Dev Officer Code:  \\nSubject to IMT Endorsement No.s, terms and conditions printed herein / attached hereto 22\\nI/We hereby certify that the policy to which the certificate relates as well as\\nthe certificate of insurance are issued in accordance with provisions of\\nChapter X & XI of M.V Act, 1988.\\nDate of Issue: 18/11/2022 For and On behalf of\\nUnited India Insurance Co. Ltd.\\nDuly Constituted Attorney\\nThis is a system generated document and any manual alteration / correction / overwriting in the document will make it invalid.\\n(ARCHIVED POLICY)\\n11 / 11'"
      ]
     },
     "execution_count": 36,
     "metadata": {},
     "output_type": "execute_result"
    }
   ],
   "source": [
    "raw_text"
   ]
  },
  {
   "cell_type": "code",
   "execution_count": 37,
   "metadata": {},
   "outputs": [],
   "source": [
    "cassio.init(token=ASTRA_DB_APPLICATION_TOKEN, database_id=ASTRA_DB_ID)"
   ]
  },
  {
   "cell_type": "code",
   "execution_count": 38,
   "metadata": {},
   "outputs": [],
   "source": [
    "llm = OpenAI(openai_api_key= os.getenv('OPENAI_API_KEY'))\n",
    "embedding = OpenAIEmbeddings(openai_api_key= os.getenv('OPENAI_API_KEY'))"
   ]
  },
  {
   "cell_type": "code",
   "execution_count": 39,
   "metadata": {},
   "outputs": [
    {
     "name": "stdout",
     "output_type": "stream",
     "text": [
      "Unexpected exception formatting exception. Falling back to standard exception\n"
     ]
    },
    {
     "name": "stderr",
     "output_type": "stream",
     "text": [
      "Traceback (most recent call last):\n",
      "  File \"/Users/bhaskaradhikari/pdf reader chatbot/venv/lib/python3.10/site-packages/IPython/core/interactiveshell.py\", line 3553, in run_code\n",
      "    exec(code_obj, self.user_global_ns, self.user_ns)\n",
      "  File \"/var/folders/lg/r5rxkx3j1_9cr9zm79phgspc0000gn/T/ipykernel_85468/2980632688.py\", line 8, in <module>\n",
      "    print(f\"Connected to Astra DB: {db.get_collections()}\")\n",
      "  File \"/Users/bhaskaradhikari/pdf reader chatbot/venv/lib/python3.10/site-packages/astrapy/db.py\", line 1883, in get_collections\n",
      "    response = self._request(\n",
      "  File \"/Users/bhaskaradhikari/pdf reader chatbot/venv/lib/python3.10/site-packages/astrapy/db.py\", line 1837, in _request\n",
      "    response = make_request(\n",
      "  File \"/Users/bhaskaradhikari/pdf reader chatbot/venv/lib/python3.10/site-packages/astrapy/utils.py\", line 101, in make_request\n",
      "    r.raise_for_status()\n",
      "  File \"/Users/bhaskaradhikari/pdf reader chatbot/venv/lib/python3.10/site-packages/httpx/_models.py\", line 759, in raise_for_status\n",
      "httpx.HTTPStatusError: Client error '401 Unauthorized' for url 'https://3b39c7e9-1f87-4ddf-882d-0ab790dff010-us-east1.apps.astra.datastax.com/api/json/v1/default_keyspace'\n",
      "For more information check: https://developer.mozilla.org/en-US/docs/Web/HTTP/Status/401\n",
      "\n",
      "During handling of the above exception, another exception occurred:\n",
      "\n",
      "Traceback (most recent call last):\n",
      "  File \"/Users/bhaskaradhikari/pdf reader chatbot/venv/lib/python3.10/site-packages/IPython/core/interactiveshell.py\", line 2144, in showtraceback\n",
      "    stb = self.InteractiveTB.structured_traceback(\n",
      "  File \"/Users/bhaskaradhikari/pdf reader chatbot/venv/lib/python3.10/site-packages/IPython/core/ultratb.py\", line 1435, in structured_traceback\n",
      "    return FormattedTB.structured_traceback(\n",
      "  File \"/Users/bhaskaradhikari/pdf reader chatbot/venv/lib/python3.10/site-packages/IPython/core/ultratb.py\", line 1326, in structured_traceback\n",
      "    return VerboseTB.structured_traceback(\n",
      "  File \"/Users/bhaskaradhikari/pdf reader chatbot/venv/lib/python3.10/site-packages/IPython/core/ultratb.py\", line 1173, in structured_traceback\n",
      "    formatted_exception = self.format_exception_as_a_whole(etype, evalue, etb, number_of_lines_of_context,\n",
      "  File \"/Users/bhaskaradhikari/pdf reader chatbot/venv/lib/python3.10/site-packages/IPython/core/ultratb.py\", line 1088, in format_exception_as_a_whole\n",
      "    frames.append(self.format_record(record))\n",
      "  File \"/Users/bhaskaradhikari/pdf reader chatbot/venv/lib/python3.10/site-packages/IPython/core/ultratb.py\", line 970, in format_record\n",
      "    frame_info.lines, Colors, self.has_colors, lvals\n",
      "  File \"/Users/bhaskaradhikari/pdf reader chatbot/venv/lib/python3.10/site-packages/IPython/core/ultratb.py\", line 792, in lines\n",
      "    return self._sd.lines\n",
      "  File \"/Users/bhaskaradhikari/pdf reader chatbot/venv/lib/python3.10/site-packages/stack_data/utils.py\", line 145, in cached_property_wrapper\n",
      "    value = obj.__dict__[self.func.__name__] = self.func(obj)\n",
      "  File \"/Users/bhaskaradhikari/pdf reader chatbot/venv/lib/python3.10/site-packages/stack_data/core.py\", line 734, in lines\n",
      "    pieces = self.included_pieces\n",
      "  File \"/Users/bhaskaradhikari/pdf reader chatbot/venv/lib/python3.10/site-packages/stack_data/utils.py\", line 145, in cached_property_wrapper\n",
      "    value = obj.__dict__[self.func.__name__] = self.func(obj)\n",
      "  File \"/Users/bhaskaradhikari/pdf reader chatbot/venv/lib/python3.10/site-packages/stack_data/core.py\", line 681, in included_pieces\n",
      "    pos = scope_pieces.index(self.executing_piece)\n",
      "  File \"/Users/bhaskaradhikari/pdf reader chatbot/venv/lib/python3.10/site-packages/stack_data/utils.py\", line 145, in cached_property_wrapper\n",
      "    value = obj.__dict__[self.func.__name__] = self.func(obj)\n",
      "  File \"/Users/bhaskaradhikari/pdf reader chatbot/venv/lib/python3.10/site-packages/stack_data/core.py\", line 660, in executing_piece\n",
      "    return only(\n",
      "  File \"/Users/bhaskaradhikari/pdf reader chatbot/venv/lib/python3.10/site-packages/executing/executing.py\", line 116, in only\n",
      "    raise NotOneValueFound('Expected one value, found 0')\n",
      "executing.executing.NotOneValueFound: Expected one value, found 0\n"
     ]
    }
   ],
   "source": [
    "from astrapy.db import AstraDB\n",
    "\n",
    "# Initialization\n",
    "db = AstraDB(\n",
    "  token=\"ASTRA_DB_APPLICATION_TOKEN\",\n",
    "  api_endpoint=\"https://3b39c7e9-1f87-4ddf-882d-0ab790dff010-us-east1.apps.astra.datastax.com\")\n",
    "\n",
    "print(f\"Connected to Astra DB: {db.get_collections()}\")"
   ]
  },
  {
   "cell_type": "code",
   "execution_count": 40,
   "metadata": {},
   "outputs": [],
   "source": [
    "astra_vector_store = Cassandra(\n",
    "    embedding=embedding,\n",
    "    table_name=\"QApdfdemo\",\n",
    "    session=None,\n",
    "    keyspace=None,\n",
    ")"
   ]
  },
  {
   "cell_type": "code",
   "execution_count": 44,
   "metadata": {},
   "outputs": [],
   "source": [
    "from langchain.text_splitter import CharacterTextSplitter\n",
    "# We need to split the text using Character Text Split such that it sshould not increse token size\n",
    "text_splitter = CharacterTextSplitter(\n",
    "    separator = \"\\n\",\n",
    "    chunk_size = 800,\n",
    "    chunk_overlap  = 200,\n",
    "    length_function = len,\n",
    ")\n",
    "texts = text_splitter.split_text(raw_text)"
   ]
  },
  {
   "cell_type": "code",
   "execution_count": null,
   "metadata": {},
   "outputs": [],
   "source": [
    "texts[:50]"
   ]
  },
  {
   "cell_type": "code",
   "execution_count": null,
   "metadata": {},
   "outputs": [],
   "source": [
    "astra_vector_store.add_texts(texts[:50])\n",
    "astra_vector_index = VectorStoreIndexWrapper(vectorstore=astra_vector_store)"
   ]
  },
  {
   "cell_type": "code",
   "execution_count": null,
   "metadata": {},
   "outputs": [],
   "source": [
    "first_question = True\n",
    "while True:\n",
    "    if first_question:\n",
    "        query_text = input(\"\\nEnter your question (or type 'quit' to exit): \").strip()\n",
    "    else:\n",
    "        query_text = input(\"\\nWhat's your next question (or type 'quit' to exit): \").strip()\n",
    "\n",
    "    if query_text.lower() == \"quit\":\n",
    "        break\n",
    "\n",
    "    if query_text == \"\":\n",
    "        continue\n",
    "\n",
    "    first_question = False\n",
    "\n",
    "    print(\"\\nQUESTION: \\\"%s\\\"\" % query_text)\n",
    "    answer = astra_vector_index.query(query_text, llm=llm).strip()\n",
    "    print(\"ANSWER: \\\"%s\\\"\\n\" % answer)"
   ]
  },
  {
   "cell_type": "code",
   "execution_count": null,
   "metadata": {},
   "outputs": [],
   "source": [
    "astra_vector_store.delete_collection()\n"
   ]
  }
 ],
 "metadata": {
  "kernelspec": {
   "display_name": "Python 3",
   "language": "python",
   "name": "python3"
  },
  "language_info": {
   "codemirror_mode": {
    "name": "ipython",
    "version": 3
   },
   "file_extension": ".py",
   "mimetype": "text/x-python",
   "name": "python",
   "nbconvert_exporter": "python",
   "pygments_lexer": "ipython3",
   "version": "3.10.0"
  }
 },
 "nbformat": 4,
 "nbformat_minor": 2
}
